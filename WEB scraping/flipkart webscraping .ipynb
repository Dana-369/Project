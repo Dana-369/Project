{
 "cells": [
  {
   "cell_type": "markdown",
   "id": "1be5a1e1",
   "metadata": {},
   "source": [
    "## Web scraping on Laptop details in flipkart\n",
    "\n",
    "Disclaimer: The goal of this project is only educational."
   ]
  },
  {
   "cell_type": "code",
   "execution_count": 2,
   "id": "818833a4",
   "metadata": {},
   "outputs": [],
   "source": [
    "import pandas as pd\n",
    "import requests\n",
    "from bs4 import BeautifulSoup"
   ]
  },
  {
   "cell_type": "markdown",
   "id": "4a5f6c39",
   "metadata": {},
   "source": [
    "# Request "
   ]
  },
  {
   "cell_type": "code",
   "execution_count": 3,
   "id": "40445746",
   "metadata": {},
   "outputs": [],
   "source": [
    "url='https://www.flipkart.com/laptops/pr?sid=6bo,b5g&otracker=categorytree&fm=neo%2Fmerchandising&iid=M_1dc4a79b-6103-481c-862e-03f8153d845c_1_372UD5BXDFYS_MC.34WHNYFH5V2Y&otracker=hp_rich_navigation_8_1.navigationCard.RICH_NAVIGATION_Electronics~Laptop%2Band%2BDesktop_34WHNYFH5V2Y&otracker1=hp_rich_navigation_PINNED_neo%2Fmerchandising_NA_NAV_EXPANDABLE_navigationCard_cc_8_L1_view-all&cid=34WHNYFH5V2Y'"
   ]
  },
  {
   "cell_type": "code",
   "execution_count": 4,
   "id": "066c32b2",
   "metadata": {},
   "outputs": [
    {
     "data": {
      "text/plain": [
       "200"
      ]
     },
     "execution_count": 4,
     "metadata": {},
     "output_type": "execute_result"
    }
   ],
   "source": [
    "response=requests.get(url)\n",
    "response.status_code"
   ]
  },
  {
   "cell_type": "code",
   "execution_count": 5,
   "id": "0acaf58c",
   "metadata": {},
   "outputs": [
    {
     "data": {
      "text/plain": [
       "182623"
      ]
     },
     "execution_count": 5,
     "metadata": {},
     "output_type": "execute_result"
    }
   ],
   "source": [
    "len(response.text)"
   ]
  },
  {
   "cell_type": "code",
   "execution_count": 6,
   "id": "283a49b4",
   "metadata": {},
   "outputs": [],
   "source": [
    "page_content=response.text"
   ]
  },
  {
   "cell_type": "code",
   "execution_count": 7,
   "id": "892d2655",
   "metadata": {},
   "outputs": [
    {
     "data": {
      "text/plain": [
       "'<!doctype html><html lang=\"en\"><head><link href=\"https://rukminim1.flixcart.com\" rel=\"preconnect\"/><link rel=\"stylesheet\" href=\"//static-assets-web.flixcart.com/fk-p-linchpin-web/fk-cp-zion/css/app_modules.chunk.905c37.css\"/><link rel=\"stylesheet\" href=\"//static-assets-web.flixcart.com/fk-p-linchpin-web/fk-cp-zion/css/app.chunk.b2f6f5.css\"/><meta http-equiv=\"Content-type\" content=\"text/html; charset=utf-8\"/><meta http-equiv=\"X-UA-Compatible\" content=\"IE=Edge\"/><meta property=\"fb:page_id\" content=\"102988293558\"/><meta property=\"fb:admins\" content=\"658873552,624500995,100000233612389\"/><meta name=\"robots\" content=\"noodp\"/><link rel=\"shortcut icon\" href=\"https:///www/promos/new/20150528-140547-favicon-retina.ico\"/><link type=\"application/opensearchdescription+xml\" rel=\"search\" href=\"/osdd.xml?v=2\"/><meta property=\"og:type\" content=\"website\"/><meta name=\"og_site_name\" property=\"og:site_name\" content=\"Flipkart.com\"/><link rel=\"apple-touch-icon\" sizes=\"57x57\" href=\"/apple-touch-icon-57x57.pn'"
      ]
     },
     "execution_count": 7,
     "metadata": {},
     "output_type": "execute_result"
    }
   ],
   "source": [
    "page_content[:1000]"
   ]
  },
  {
   "cell_type": "markdown",
   "id": "75f41fb5",
   "metadata": {},
   "source": [
    "## Use Beautiful Soup to parse and extract information"
   ]
  },
  {
   "cell_type": "code",
   "execution_count": 8,
   "id": "56445206",
   "metadata": {},
   "outputs": [],
   "source": [
    "doc=BeautifulSoup(page_content,'html.parser')"
   ]
  },
  {
   "cell_type": "code",
   "execution_count": 9,
   "id": "e8385d9d",
   "metadata": {},
   "outputs": [],
   "source": [
    "selection_class='_4rR01T'\n",
    "laptop_name_tags=doc.find_all('div',{'class':selection_class})"
   ]
  },
  {
   "cell_type": "code",
   "execution_count": 10,
   "id": "801623f8",
   "metadata": {},
   "outputs": [
    {
     "data": {
      "text/plain": [
       "[<div class=\"_4rR01T\">acer Nitro 5 Core i5 12th Gen - (8 GB/512 GB SSD/Windows 11 Home/4 GB Graphics/NVIDIA GeForce RTX 3050...</div>,\n",
       " <div class=\"_4rR01T\">Lenovo Lenovo IdeaPad Slim 3 Intel Core i3 11th Gen - (8 GB/256 GB SSD/Windows 11 Home) 15ITL05 Thin a...</div>,\n",
       " <div class=\"_4rR01T\">ASUS TUF Gaming F15 Core i5 10th Gen - (8 GB/512 GB SSD/Windows 11 Home/4 GB Graphics/NVIDIA GeForce G...</div>,\n",
       " <div class=\"_4rR01T\">Lenovo Intel Celeron Dual Core - (8 GB/256 GB SSD/Windows 11 Home) 81WQ00MQIN|81WQ00NXIN Laptop</div>,\n",
       " <div class=\"_4rR01T\">ASUS VivoBook 14 (2021) Celeron Dual Core - (4 GB/256 GB SSD/Windows 11 Home) X415MA-BV011W Thin and L...</div>,\n",
       " <div class=\"_4rR01T\">ASUS TUF Gaming A17 with 90Whr Battery Ryzen 5 Hexa Core AMD R5-4600H - (8 GB/512 GB SSD/Windows 11 Ho...</div>,\n",
       " <div class=\"_4rR01T\">DELL Vostro Core i3 11th Gen - (8 GB/1 TB HDD/256 GB SSD/Windows 11 Home) Vostro 3510 Thin and Light L...</div>,\n",
       " <div class=\"_4rR01T\">RedmiBook Pro Core i5 11th Gen - (8 GB/512 GB SSD/Windows 11 Home) Thin and Light Laptop</div>,\n",
       " <div class=\"_4rR01T\">ASUS Vivobook 15 Core i3 11th Gen - (8 GB/512 GB SSD/Windows 11 Home) X515EA-EJ322WS Thin and Light La...</div>,\n",
       " <div class=\"_4rR01T\">HP 14s Intel Core i3 11th Gen - (8 GB/256 GB SSD/Windows 11 Home) 14s - dy2507TU Thin and Light Laptop</div>]"
      ]
     },
     "execution_count": 10,
     "metadata": {},
     "output_type": "execute_result"
    }
   ],
   "source": [
    "laptop_name_tags[:10]"
   ]
  },
  {
   "cell_type": "code",
   "execution_count": 11,
   "id": "3dd55e02",
   "metadata": {},
   "outputs": [],
   "source": [
    "selection_class='_30jeq3 _1_WHN1'\n",
    "laptop_price_tags=doc.find_all('div',{'class':selection_class})"
   ]
  },
  {
   "cell_type": "code",
   "execution_count": 12,
   "id": "46836f48",
   "metadata": {},
   "outputs": [
    {
     "data": {
      "text/plain": [
       "[<div class=\"_30jeq3 _1_WHN1\">₹74,990</div>,\n",
       " <div class=\"_30jeq3 _1_WHN1\">₹33,890</div>,\n",
       " <div class=\"_30jeq3 _1_WHN1\">₹49,990</div>,\n",
       " <div class=\"_30jeq3 _1_WHN1\">₹25,919</div>,\n",
       " <div class=\"_30jeq3 _1_WHN1\">₹23,990</div>,\n",
       " <div class=\"_30jeq3 _1_WHN1\">₹53,990</div>,\n",
       " <div class=\"_30jeq3 _1_WHN1\">₹37,990</div>,\n",
       " <div class=\"_30jeq3 _1_WHN1\">₹38,990</div>,\n",
       " <div class=\"_30jeq3 _1_WHN1\">₹35,990</div>,\n",
       " <div class=\"_30jeq3 _1_WHN1\">₹37,490</div>]"
      ]
     },
     "execution_count": 12,
     "metadata": {},
     "output_type": "execute_result"
    }
   ],
   "source": [
    "laptop_price_tags[:10]"
   ]
  },
  {
   "cell_type": "code",
   "execution_count": 13,
   "id": "71ab5278",
   "metadata": {},
   "outputs": [],
   "source": [
    "selection_class='_3LWZlK'\n",
    "laptop_rating_tags=doc.find_all('div',{'class':selection_class})"
   ]
  },
  {
   "cell_type": "code",
   "execution_count": 14,
   "id": "ee7255f2",
   "metadata": {},
   "outputs": [
    {
     "data": {
      "text/plain": [
       "<div class=\"_3LWZlK\">3.9<img class=\"_1wB99o\" src=\"data:image/svg+xml;base64,PHN2ZyB4bWxucz0iaHR0cDovL3d3dy53My5vcmcvMjAwMC9zdmciIHdpZHRoPSIxMyIgaGVpZ2h0PSIxMiI+PHBhdGggZmlsbD0iI0ZGRiIgZD0iTTYuNSA5LjQzOWwtMy42NzQgMi4yMy45NC00LjI2LTMuMjEtMi44ODMgNC4yNTQtLjQwNEw2LjUuMTEybDEuNjkgNC4wMSA0LjI1NC40MDQtMy4yMSAyLjg4Mi45NCA0LjI2eiIvPjwvc3ZnPg==\"/></div>"
      ]
     },
     "execution_count": 14,
     "metadata": {},
     "output_type": "execute_result"
    }
   ],
   "source": [
    "laptop_rating_tags[0]"
   ]
  },
  {
   "cell_type": "code",
   "execution_count": 15,
   "id": "8d7077b1",
   "metadata": {},
   "outputs": [],
   "source": [
    "selection_class='_3I9_wc _27UcVY'\n",
    "laptop_originalprice_tag=doc.find_all('div',{'class':selection_class})"
   ]
  },
  {
   "cell_type": "code",
   "execution_count": 16,
   "id": "31e5f267",
   "metadata": {},
   "outputs": [
    {
     "data": {
      "text/plain": [
       "[<div class=\"_3I9_wc _27UcVY\">₹<!-- -->99,999</div>,\n",
       " <div class=\"_3I9_wc _27UcVY\">₹<!-- -->48,490</div>,\n",
       " <div class=\"_3I9_wc _27UcVY\">₹<!-- -->70,990</div>,\n",
       " <div class=\"_3I9_wc _27UcVY\">₹<!-- -->44,690</div>,\n",
       " <div class=\"_3I9_wc _27UcVY\">₹<!-- -->33,990</div>]"
      ]
     },
     "execution_count": 16,
     "metadata": {},
     "output_type": "execute_result"
    }
   ],
   "source": [
    "laptop_originalprice_tag[:5]"
   ]
  },
  {
   "cell_type": "markdown",
   "id": "5f5e330b",
   "metadata": {},
   "source": [
    "### Getting text"
   ]
  },
  {
   "cell_type": "code",
   "execution_count": 17,
   "id": "2261ba8c",
   "metadata": {},
   "outputs": [
    {
     "data": {
      "text/plain": [
       "'acer Nitro 5 Core i5 12th Gen - (8 GB/512 GB SSD/Windows 11 Home/4 GB Graphics/NVIDIA GeForce RTX 3050...'"
      ]
     },
     "execution_count": 17,
     "metadata": {},
     "output_type": "execute_result"
    }
   ],
   "source": [
    "laptop_name_tags[0].text"
   ]
  },
  {
   "cell_type": "code",
   "execution_count": 18,
   "id": "5d4d2470",
   "metadata": {},
   "outputs": [
    {
     "data": {
      "text/plain": [
       "24"
      ]
     },
     "execution_count": 18,
     "metadata": {},
     "output_type": "execute_result"
    }
   ],
   "source": [
    "laptop_name=[]\n",
    "for tag in laptop_name_tags:\n",
    "    laptop_name.append(tag.text.strip())\n",
    "len(laptop_name)"
   ]
  },
  {
   "cell_type": "code",
   "execution_count": 19,
   "id": "eebf772e",
   "metadata": {},
   "outputs": [
    {
     "data": {
      "text/plain": [
       "24"
      ]
     },
     "execution_count": 19,
     "metadata": {},
     "output_type": "execute_result"
    }
   ],
   "source": [
    "laptop_price=[]\n",
    "for tag in laptop_price_tags:\n",
    "    laptop_price.append(tag.text.strip())\n",
    "len(laptop_price)"
   ]
  },
  {
   "cell_type": "code",
   "execution_count": 20,
   "id": "c601092a",
   "metadata": {},
   "outputs": [
    {
     "data": {
      "text/plain": [
       "37"
      ]
     },
     "execution_count": 20,
     "metadata": {},
     "output_type": "execute_result"
    }
   ],
   "source": [
    "laptop_rating=[]\n",
    "for tag in laptop_rating_tags:\n",
    "    laptop_rating.append(tag.text.strip())\n",
    "len(laptop_rating)"
   ]
  },
  {
   "cell_type": "code",
   "execution_count": 21,
   "id": "05924deb",
   "metadata": {},
   "outputs": [
    {
     "data": {
      "text/plain": [
       "24"
      ]
     },
     "execution_count": 21,
     "metadata": {},
     "output_type": "execute_result"
    }
   ],
   "source": [
    "laptop_originalprice=[]\n",
    "for tag in laptop_originalprice_tag:\n",
    "    laptop_originalprice.append(tag.text.strip())\n",
    "len(laptop_originalprice)"
   ]
  },
  {
   "cell_type": "markdown",
   "id": "c4615f5c",
   "metadata": {},
   "source": [
    "### save to CSV "
   ]
  },
  {
   "cell_type": "code",
   "execution_count": 24,
   "id": "77910ad4",
   "metadata": {},
   "outputs": [],
   "source": [
    "laptop={'Laptop_name':laptop_name[:24],\n",
    "        'Rating':laptop_rating[:24],\n",
    "       'selling_price':laptop_price[:24],\n",
    "       'Original_price':laptop_originalprice}"
   ]
  },
  {
   "cell_type": "code",
   "execution_count": 25,
   "id": "c9c6b058",
   "metadata": {},
   "outputs": [],
   "source": [
    "laptop_df=pd.DataFrame(laptop)"
   ]
  },
  {
   "cell_type": "code",
   "execution_count": 26,
   "id": "a92d3a5d",
   "metadata": {},
   "outputs": [
    {
     "data": {
      "text/html": [
       "<div>\n",
       "<style scoped>\n",
       "    .dataframe tbody tr th:only-of-type {\n",
       "        vertical-align: middle;\n",
       "    }\n",
       "\n",
       "    .dataframe tbody tr th {\n",
       "        vertical-align: top;\n",
       "    }\n",
       "\n",
       "    .dataframe thead th {\n",
       "        text-align: right;\n",
       "    }\n",
       "</style>\n",
       "<table border=\"1\" class=\"dataframe\">\n",
       "  <thead>\n",
       "    <tr style=\"text-align: right;\">\n",
       "      <th></th>\n",
       "      <th>Laptop_name</th>\n",
       "      <th>Rating</th>\n",
       "      <th>selling_price</th>\n",
       "      <th>Original_price</th>\n",
       "    </tr>\n",
       "  </thead>\n",
       "  <tbody>\n",
       "    <tr>\n",
       "      <th>0</th>\n",
       "      <td>acer Nitro 5 Core i5 12th Gen - (8 GB/512 GB S...</td>\n",
       "      <td>3.9</td>\n",
       "      <td>₹74,990</td>\n",
       "      <td>₹99,999</td>\n",
       "    </tr>\n",
       "    <tr>\n",
       "      <th>1</th>\n",
       "      <td>Lenovo Lenovo IdeaPad Slim 3 Intel Core i3 11t...</td>\n",
       "      <td>4.2</td>\n",
       "      <td>₹33,890</td>\n",
       "      <td>₹48,490</td>\n",
       "    </tr>\n",
       "    <tr>\n",
       "      <th>2</th>\n",
       "      <td>ASUS TUF Gaming F15 Core i5 10th Gen - (8 GB/5...</td>\n",
       "      <td>4.4</td>\n",
       "      <td>₹49,990</td>\n",
       "      <td>₹70,990</td>\n",
       "    </tr>\n",
       "    <tr>\n",
       "      <th>3</th>\n",
       "      <td>Lenovo Intel Celeron Dual Core - (8 GB/256 GB ...</td>\n",
       "      <td>4.1</td>\n",
       "      <td>₹25,919</td>\n",
       "      <td>₹44,690</td>\n",
       "    </tr>\n",
       "    <tr>\n",
       "      <th>4</th>\n",
       "      <td>ASUS VivoBook 14 (2021) Celeron Dual Core - (4...</td>\n",
       "      <td>4.1</td>\n",
       "      <td>₹23,990</td>\n",
       "      <td>₹33,990</td>\n",
       "    </tr>\n",
       "    <tr>\n",
       "      <th>5</th>\n",
       "      <td>ASUS TUF Gaming A17 with 90Whr Battery Ryzen 5...</td>\n",
       "      <td>4.4</td>\n",
       "      <td>₹53,990</td>\n",
       "      <td>₹71,990</td>\n",
       "    </tr>\n",
       "    <tr>\n",
       "      <th>6</th>\n",
       "      <td>DELL Vostro Core i3 11th Gen - (8 GB/1 TB HDD/...</td>\n",
       "      <td>4.1</td>\n",
       "      <td>₹37,990</td>\n",
       "      <td>₹58,489</td>\n",
       "    </tr>\n",
       "    <tr>\n",
       "      <th>7</th>\n",
       "      <td>RedmiBook Pro Core i5 11th Gen - (8 GB/512 GB ...</td>\n",
       "      <td>4.1</td>\n",
       "      <td>₹38,990</td>\n",
       "      <td>₹59,999</td>\n",
       "    </tr>\n",
       "    <tr>\n",
       "      <th>8</th>\n",
       "      <td>ASUS Vivobook 15 Core i3 11th Gen - (8 GB/512 ...</td>\n",
       "      <td>4.2</td>\n",
       "      <td>₹35,990</td>\n",
       "      <td>₹50,990</td>\n",
       "    </tr>\n",
       "    <tr>\n",
       "      <th>9</th>\n",
       "      <td>HP 14s Intel Core i3 11th Gen - (8 GB/256 GB S...</td>\n",
       "      <td>4.2</td>\n",
       "      <td>₹37,490</td>\n",
       "      <td>₹47,278</td>\n",
       "    </tr>\n",
       "    <tr>\n",
       "      <th>10</th>\n",
       "      <td>Lenovo IdeaPad Gaming Core i5 11th Gen - (8 GB...</td>\n",
       "      <td>4.3</td>\n",
       "      <td>₹51,490</td>\n",
       "      <td>₹76,890</td>\n",
       "    </tr>\n",
       "    <tr>\n",
       "      <th>11</th>\n",
       "      <td>Lenovo IdeaPad 3 Core i3 11th Gen - (8 GB/256 ...</td>\n",
       "      <td>4.2</td>\n",
       "      <td>₹33,990</td>\n",
       "      <td>₹60,890</td>\n",
       "    </tr>\n",
       "    <tr>\n",
       "      <th>12</th>\n",
       "      <td>ASUS TUF Gaming A17 with 90Whr Battery Ryzen 7...</td>\n",
       "      <td>4.4</td>\n",
       "      <td>₹67,990</td>\n",
       "      <td>₹94,990</td>\n",
       "    </tr>\n",
       "    <tr>\n",
       "      <th>13</th>\n",
       "      <td>MSI Core i9 13th Gen - (32 GB/2 TB SSD/Windows...</td>\n",
       "      <td>4.3</td>\n",
       "      <td>₹3,99,990</td>\n",
       "      <td>₹4,47,990</td>\n",
       "    </tr>\n",
       "    <tr>\n",
       "      <th>14</th>\n",
       "      <td>ASUS VivoBook 15 (2022) Core i3 10th Gen - (8 ...</td>\n",
       "      <td>4.5</td>\n",
       "      <td>₹34,990</td>\n",
       "      <td>₹45,990</td>\n",
       "    </tr>\n",
       "    <tr>\n",
       "      <th>15</th>\n",
       "      <td>acer Extensa Ryzen 5 Quad Core 7520U - (8 GB/5...</td>\n",
       "      <td>4.3</td>\n",
       "      <td>₹44,990</td>\n",
       "      <td>₹48,999</td>\n",
       "    </tr>\n",
       "    <tr>\n",
       "      <th>16</th>\n",
       "      <td>ASUS TUF Dash F15 Core i5 12th Gen - (16 GB/51...</td>\n",
       "      <td>4.4</td>\n",
       "      <td>₹85,990</td>\n",
       "      <td>₹1,22,990</td>\n",
       "    </tr>\n",
       "    <tr>\n",
       "      <th>17</th>\n",
       "      <td>HP Ryzen 3 Quad Core 5300U - (8 GB/512 GB SSD/...</td>\n",
       "      <td>4.3</td>\n",
       "      <td>₹39,790</td>\n",
       "      <td>₹48,294</td>\n",
       "    </tr>\n",
       "    <tr>\n",
       "      <th>18</th>\n",
       "      <td>ASUS VivoBook K15 OLED (2022) Ryzen 5 Hexa Cor...</td>\n",
       "      <td>4.3</td>\n",
       "      <td>₹48,990</td>\n",
       "      <td>₹78,990</td>\n",
       "    </tr>\n",
       "    <tr>\n",
       "      <th>19</th>\n",
       "      <td>Lenovo Lenovo IdeaPad Slim 3 Intel Core i5 11t...</td>\n",
       "      <td>4.2</td>\n",
       "      <td>₹53,990</td>\n",
       "      <td>₹84,603</td>\n",
       "    </tr>\n",
       "    <tr>\n",
       "      <th>20</th>\n",
       "      <td>HP Pavilion Ryzen 5 Hexa Core 5625U - (8 GB/51...</td>\n",
       "      <td>4.5</td>\n",
       "      <td>₹52,490</td>\n",
       "      <td>₹63,325</td>\n",
       "    </tr>\n",
       "    <tr>\n",
       "      <th>21</th>\n",
       "      <td>Infinix INBook Y1 Plus Intel Core i3 10th Gen ...</td>\n",
       "      <td>3.9</td>\n",
       "      <td>₹27,990</td>\n",
       "      <td>₹44,990</td>\n",
       "    </tr>\n",
       "    <tr>\n",
       "      <th>22</th>\n",
       "      <td>HP Laptop with Backlit Keyboard Core i3 11th G...</td>\n",
       "      <td>3.9</td>\n",
       "      <td>₹41,319</td>\n",
       "      <td>₹51,724</td>\n",
       "    </tr>\n",
       "    <tr>\n",
       "      <th>23</th>\n",
       "      <td>Lenovo Lenovo IdeaPad Slim 3 Intel Core i3 11t...</td>\n",
       "      <td>4</td>\n",
       "      <td>₹35,990</td>\n",
       "      <td>₹61,390</td>\n",
       "    </tr>\n",
       "  </tbody>\n",
       "</table>\n",
       "</div>"
      ],
      "text/plain": [
       "                                          Laptop_name Rating selling_price  \\\n",
       "0   acer Nitro 5 Core i5 12th Gen - (8 GB/512 GB S...    3.9       ₹74,990   \n",
       "1   Lenovo Lenovo IdeaPad Slim 3 Intel Core i3 11t...    4.2       ₹33,890   \n",
       "2   ASUS TUF Gaming F15 Core i5 10th Gen - (8 GB/5...    4.4       ₹49,990   \n",
       "3   Lenovo Intel Celeron Dual Core - (8 GB/256 GB ...    4.1       ₹25,919   \n",
       "4   ASUS VivoBook 14 (2021) Celeron Dual Core - (4...    4.1       ₹23,990   \n",
       "5   ASUS TUF Gaming A17 with 90Whr Battery Ryzen 5...    4.4       ₹53,990   \n",
       "6   DELL Vostro Core i3 11th Gen - (8 GB/1 TB HDD/...    4.1       ₹37,990   \n",
       "7   RedmiBook Pro Core i5 11th Gen - (8 GB/512 GB ...    4.1       ₹38,990   \n",
       "8   ASUS Vivobook 15 Core i3 11th Gen - (8 GB/512 ...    4.2       ₹35,990   \n",
       "9   HP 14s Intel Core i3 11th Gen - (8 GB/256 GB S...    4.2       ₹37,490   \n",
       "10  Lenovo IdeaPad Gaming Core i5 11th Gen - (8 GB...    4.3       ₹51,490   \n",
       "11  Lenovo IdeaPad 3 Core i3 11th Gen - (8 GB/256 ...    4.2       ₹33,990   \n",
       "12  ASUS TUF Gaming A17 with 90Whr Battery Ryzen 7...    4.4       ₹67,990   \n",
       "13  MSI Core i9 13th Gen - (32 GB/2 TB SSD/Windows...    4.3     ₹3,99,990   \n",
       "14  ASUS VivoBook 15 (2022) Core i3 10th Gen - (8 ...    4.5       ₹34,990   \n",
       "15  acer Extensa Ryzen 5 Quad Core 7520U - (8 GB/5...    4.3       ₹44,990   \n",
       "16  ASUS TUF Dash F15 Core i5 12th Gen - (16 GB/51...    4.4       ₹85,990   \n",
       "17  HP Ryzen 3 Quad Core 5300U - (8 GB/512 GB SSD/...    4.3       ₹39,790   \n",
       "18  ASUS VivoBook K15 OLED (2022) Ryzen 5 Hexa Cor...    4.3       ₹48,990   \n",
       "19  Lenovo Lenovo IdeaPad Slim 3 Intel Core i5 11t...    4.2       ₹53,990   \n",
       "20  HP Pavilion Ryzen 5 Hexa Core 5625U - (8 GB/51...    4.5       ₹52,490   \n",
       "21  Infinix INBook Y1 Plus Intel Core i3 10th Gen ...    3.9       ₹27,990   \n",
       "22  HP Laptop with Backlit Keyboard Core i3 11th G...    3.9       ₹41,319   \n",
       "23  Lenovo Lenovo IdeaPad Slim 3 Intel Core i3 11t...      4       ₹35,990   \n",
       "\n",
       "   Original_price  \n",
       "0         ₹99,999  \n",
       "1         ₹48,490  \n",
       "2         ₹70,990  \n",
       "3         ₹44,690  \n",
       "4         ₹33,990  \n",
       "5         ₹71,990  \n",
       "6         ₹58,489  \n",
       "7         ₹59,999  \n",
       "8         ₹50,990  \n",
       "9         ₹47,278  \n",
       "10        ₹76,890  \n",
       "11        ₹60,890  \n",
       "12        ₹94,990  \n",
       "13      ₹4,47,990  \n",
       "14        ₹45,990  \n",
       "15        ₹48,999  \n",
       "16      ₹1,22,990  \n",
       "17        ₹48,294  \n",
       "18        ₹78,990  \n",
       "19        ₹84,603  \n",
       "20        ₹63,325  \n",
       "21        ₹44,990  \n",
       "22        ₹51,724  \n",
       "23        ₹61,390  "
      ]
     },
     "execution_count": 26,
     "metadata": {},
     "output_type": "execute_result"
    }
   ],
   "source": [
    "laptop_df"
   ]
  },
  {
   "cell_type": "code",
   "execution_count": 27,
   "id": "fb694c7f",
   "metadata": {},
   "outputs": [],
   "source": [
    "laptop_df.to_csv('laptop_price.csv')"
   ]
  },
  {
   "cell_type": "code",
   "execution_count": null,
   "id": "b2fb9cea",
   "metadata": {},
   "outputs": [],
   "source": []
  }
 ],
 "metadata": {
  "kernelspec": {
   "display_name": "Python 3 (ipykernel)",
   "language": "python",
   "name": "python3"
  },
  "language_info": {
   "codemirror_mode": {
    "name": "ipython",
    "version": 3
   },
   "file_extension": ".py",
   "mimetype": "text/x-python",
   "name": "python",
   "nbconvert_exporter": "python",
   "pygments_lexer": "ipython3",
   "version": "3.11.2"
  }
 },
 "nbformat": 4,
 "nbformat_minor": 5
}
